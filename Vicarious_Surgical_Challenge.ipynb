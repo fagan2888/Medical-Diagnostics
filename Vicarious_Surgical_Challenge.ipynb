{
 "cells": [
  {
   "cell_type": "markdown",
   "metadata": {},
   "source": [
    "# Jupyter Notebook for Vicarious Surgical challenge problem\n",
    "\n",
    "Author: Joshua Enxing, 1/13/2020.\n",
    "\n",
    "To run, execute each code cell in sucession. Below is a repasting of the problem description: "
   ]
  },
  {
   "cell_type": "markdown",
   "metadata": {},
   "source": [
    "<img src = \"Medical Diagnostics.jpg\" width = 900 height = 600>"
   ]
  },
  {
   "cell_type": "markdown",
   "metadata": {},
   "source": [
    "### PDF for Bayesian Networks\n",
    "\n",
    "The joint probability function for a Bayesian network with nodes $\\{X_1,\\ldots,X_n\\}$ is given by $P(X_1,\\ldots,X_n) = \\Pi_{i=1}^n P(X_i | \\Pi_{X_i})$, where $\\Pi_{X_i}$ is the product of all parent nodes of node $X_i$. Hence the joint probability function for this network is: $$P(CP,BP,H,E,D) = P(CP|H)P(BP|H)P(H|E,D)P(E)P(D)$$"
   ]
  },
  {
   "cell_type": "code",
   "execution_count": 14,
   "metadata": {},
   "outputs": [],
   "source": [
    "#Function that calculates the joint pdf for this Bayesian network\n",
    "def joint_pdf(cp,bp,e,d,h):\n",
    "    '''\n",
    "    joint_pdf(cp,bp,e,d,hd) outputs the probability of the joint\n",
    "    pdf for the Bayesian network given values cp,bp,hd,e,and d.\n",
    "    \n",
    "    cp = 0 or 1 corresponds to no chest pain / chest pain respectively\n",
    "    bp = 0 or 1 corresponds to low bp / high bp respectively\n",
    "    e = 0 or 1 corresponds to no exercise / exercise respectively\n",
    "    d = 0 is an unhealthy diet, d = 1 is a healthy diet\n",
    "    h = 0 or 1 corresponds to hd / no hd respectively\n",
    "    '''\n",
    "    ex = [0.3,0.7]\n",
    "    diet = [0.75,0.25]\n",
    "    \n",
    "    # First dimension is chest pain, second is heart disease\n",
    "    chest = [[0.99,0.2],[0.01,0.8]]\n",
    "    \n",
    "    # First dimension is blood pressure, second is heart disease\n",
    "    blood = [[0.8,0.15],[0.2,0.85]]\n",
    "    \n",
    "    # First dimension is heart disease, second is exercise, third\n",
    "    # is diet\n",
    "    heart = [[[0.25,0.55],[0.45,0.75]],[[0.75,0.45],[0.55,0.25]]]\n",
    "    \n",
    "    return chest[cp][h]*blood[bp][h]*heart[h][e][d]*ex[e]*diet[d]"
   ]
  },
  {
   "cell_type": "markdown",
   "metadata": {},
   "source": [
    "### Calculating Probability of Heart Disease\n",
    "\n",
    "Now we use the pdf to calculate the probability of having heart disease. Let's say we'd like to know the probability of having heart disease given high blood pressure and chest pain. This would be:\n",
    "\n",
    "$$P(H=T|CP=T,BP=T) = \\frac{P(H=T,CP=T,BP=T)}{P(CP=T,BP=T)} = \\frac{\\Sigma_{E,D\\in \\{T,F\\}}P(CP=T,BP=T,H=T,E,D)}{\\Sigma_{E,D,H\\in \\{T,F\\}}P(CP=T,BP=T,H,E,D)}$$"
   ]
  },
  {
   "cell_type": "code",
   "execution_count": 15,
   "metadata": {},
   "outputs": [],
   "source": [
    "import itertools\n",
    "\n",
    "# Convert input to 1 for positive, 0 for negative, -1 for not given\n",
    "def str_to_val(str):\n",
    "    if str == 'y':\n",
    "        val = 1\n",
    "    elif str == 'n':\n",
    "        val = 0\n",
    "    else:\n",
    "        val = -1\n",
    "    return val\n",
    "        \n",
    "# Calculates probability of heart disease given supplied features\n",
    "def calc_prob_hd(cp,bp,e,d):\n",
    "    vals = [cp,bp,e,d]\n",
    "    vals = [str_to_val(i) for i in vals]\n",
    "    \n",
    "    # Initialize variables for sums\n",
    "    n = 0\n",
    "    den = 0\n",
    "    \n",
    "    # Find which features not given\n",
    "    ind = [i for i, x in enumerate(vals) if x == -1]\n",
    "    \n",
    "    # Makes list of 2^(len(ind)) elements, contains all combinations of \n",
    "    # zeros and ones for features not supplied as input\n",
    "    lst = [list(i) for i in itertools.product([0, 1], repeat=len(ind))]\n",
    "    \n",
    "    # Go through all combinations of features not supplied as input\n",
    "    for l in lst:\n",
    "        # Change feature values that weren't supplied as input\n",
    "        for i in ind:\n",
    "            vals[i] = l[ind.index(i)]\n",
    "        n = n + joint_pdf(vals[0],vals[1],vals[2],vals[3],1) # Values in numerator of probability\n",
    "        den = den + joint_pdf(vals[0],vals[1],vals[2],vals[3],0) # Values only in denom of probability\n",
    "    \n",
    "    # Probability is sum of pdf over all combinations of all features not supplied as input (while h=1),\n",
    "    # divided by sum of pdf over all combinations of all features not supplied as input and all values of h\n",
    "    return n/(n+den) "
   ]
  },
  {
   "cell_type": "markdown",
   "metadata": {},
   "source": [
    "When enter next code cell requiring user input, input **y** or **n** to say a feature is true or false, and **na** to not use that feature at all. For example, to calculate the probability of heart disease given only that high blood pressure is true and chest pain is true, enter **y** for chest pain and blood pressure questions, and **na** for exercise and healthy diet questions. As another example, to calculate the probability of heart disease for all of the patients, enter **na** for all conditions. The resulting output will be the probability of heart disease for the given conditions."
   ]
  },
  {
   "cell_type": "code",
   "execution_count": 18,
   "metadata": {},
   "outputs": [
    {
     "name": "stdout",
     "output_type": "stream",
     "text": [
      "Chest pain? (y/n/na) N\n",
      "Blood pressure high? (y/n/na) Y\n",
      "Exercise? (y/n/na) Y\n",
      "Healthy diet? (y/n/na) Y\n",
      "Probability of heart disease is: 0.22251308900523556\n"
     ]
    }
   ],
   "source": [
    "cp = input(\"Chest pain? (y/n/na) \").lower()\n",
    "bp = input(\"Blood pressure high? (y/n/na) \").lower()\n",
    "e = input(\"Exercise? (y/n/na) \").lower()\n",
    "d = input(\"Healthy diet? (y/n/na) \").lower()\n",
    "print(\"Probability of heart disease is:\",calc_prob_hd(cp,bp,e,d))"
   ]
  }
 ],
 "metadata": {
  "kernelspec": {
   "display_name": "Python 3",
   "language": "python",
   "name": "python3"
  },
  "language_info": {
   "codemirror_mode": {
    "name": "ipython",
    "version": 3
   },
   "file_extension": ".py",
   "mimetype": "text/x-python",
   "name": "python",
   "nbconvert_exporter": "python",
   "pygments_lexer": "ipython3",
   "version": "3.7.4"
  }
 },
 "nbformat": 4,
 "nbformat_minor": 2
}
